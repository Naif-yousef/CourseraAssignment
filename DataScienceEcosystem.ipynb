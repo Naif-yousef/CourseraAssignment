{
 "cells": [
  {
   "cell_type": "markdown",
   "id": "3e575567",
   "metadata": {},
   "source": [
    "# Data Science Tools and Ecosystem"
   ]
  },
  {
   "cell_type": "markdown",
   "id": "d756243c",
   "metadata": {},
   "source": [
    "In this notebook, Data Science Tools and Ecosystem are summarized."
   ]
  },
  {
   "cell_type": "markdown",
   "id": "42f1a996",
   "metadata": {},
   "source": [
    "#### Some of the popular languages that Data Scientists use are:\n",
    "1. Java\n",
    "2. C++\n",
    "3. PHP\n",
    "4. Python"
   ]
  },
  {
   "cell_type": "markdown",
   "id": "16ac3342",
   "metadata": {},
   "source": [
    "Some of the commonly used libraries used by Data Scientists include:\n",
    "1. Sikit learn\n",
    "2. Care\n",
    "3. Panda\n",
    "4. Numpy"
   ]
  },
  {
   "cell_type": "markdown",
   "id": "f2dbf342",
   "metadata": {},
   "source": [
    "|Data Science Tools|\n",
    "-------------------\n",
    "Jupyter\n",
    "Visual Studio\n",
    "Jupyter Lab\n",
    "Jupyter Lite"
   ]
  },
  {
   "cell_type": "markdown",
   "id": "2480da0a",
   "metadata": {},
   "source": [
    "### Below are a few examples of evaluating arithmetic expressions in Python"
   ]
  },
  {
   "cell_type": "code",
   "execution_count": 1,
   "id": "406ee6e3",
   "metadata": {},
   "outputs": [
    {
     "data": {
      "text/plain": [
       "17"
      ]
     },
     "execution_count": 1,
     "metadata": {},
     "output_type": "execute_result"
    }
   ],
   "source": [
    "# This a simple arithmetic expression to mutiply then add integers\n",
    "\n",
    "(3*4)+5"
   ]
  },
  {
   "cell_type": "code",
   "execution_count": 2,
   "id": "438ab787",
   "metadata": {},
   "outputs": [
    {
     "data": {
      "text/plain": [
       "3.3333333333333335"
      ]
     },
     "execution_count": 2,
     "metadata": {},
     "output_type": "execute_result"
    }
   ],
   "source": [
    "# This will convert 200 minutes to hours by diving by 60\n",
    "\n",
    "200 / 60"
   ]
  },
  {
   "cell_type": "markdown",
   "id": "69fb96b2",
   "metadata": {},
   "source": [
    "**Objectives:**\n",
    "- List popular languages for Data Science\n",
    "- Create a Jupyter Notebook\n",
    "- List Some of the commonly used libraries used by Data Scientists\n",
    "- Creating oredered list\n",
    "- Creating unordered list"
   ]
  },
  {
   "cell_type": "markdown",
   "id": "ff8f4086",
   "metadata": {},
   "source": [
    "## Author\n",
    "NAIF ALMUSALLAM\n"
   ]
  },
  {
   "cell_type": "code",
   "execution_count": null,
   "id": "10c890e9",
   "metadata": {},
   "outputs": [],
   "source": []
  }
 ],
 "metadata": {
  "kernelspec": {
   "display_name": "Python 3 (ipykernel)",
   "language": "python",
   "name": "python3"
  },
  "language_info": {
   "codemirror_mode": {
    "name": "ipython",
    "version": 3
   },
   "file_extension": ".py",
   "mimetype": "text/x-python",
   "name": "python",
   "nbconvert_exporter": "python",
   "pygments_lexer": "ipython3",
   "version": "3.8.2"
  }
 },
 "nbformat": 4,
 "nbformat_minor": 5
}
